{
  "nbformat": 4,
  "nbformat_minor": 0,
  "metadata": {
    "colab": {
      "provenance": []
    },
    "kernelspec": {
      "name": "python3",
      "display_name": "Python 3"
    },
    "language_info": {
      "name": "python"
    }
  },
  "cells": [
    {
      "cell_type": "code",
      "execution_count": null,
      "metadata": {
        "id": "4M5SxNTwE0XW"
      },
      "outputs": [],
      "source": [
        "import os\n",
        "import cv2\n",
        "import numpy as np\n",
        "from sklearn.model_selection import train_test_split\n",
        "from sklearn.preprocessing import LabelEncoder\n",
        "from tensorflow.keras.models import Sequential\n",
        "from tensorflow.keras.layers import Conv2D, MaxPooling2D, Flatten, Dense\n",
        "from tensorflow.keras.utils import to_categorical\n"
      ]
    },
    {
      "cell_type": "code",
      "source": [
        "# Function to load images and labels from the dataset\n",
        "def load_dataset(dataset_path):\n",
        "    images = []\n",
        "    labels = []\n",
        "\n",
        "    for label in os.listdir(dataset_path):\n",
        "        label_path = os.path.join(dataset_path, label)\n",
        "        for image_file in os.listdir(label_path):\n",
        "            image_path = os.path.join(label_path, image_file)\n",
        "            image = cv2.imread(image_path)\n",
        "            image = cv2.resize(image, (64, 64))  # Resize images to a consistent size\n",
        "            images.append(image)\n",
        "            labels.append(label)\n",
        "\n",
        "    return np.array(images), np.array(labels)\n",
        "\n",
        "# Replace 'your_dataset_path' with the path to your dataset\n",
        "dataset_path = '/content/drive/MyDrive/data'\n",
        "images, labels = load_dataset(dataset_path)\n",
        "\n",
        "# Convert string labels to integer labels\n",
        "label_encoder = LabelEncoder()\n",
        "labels_encoded = label_encoder.fit_transform(labels)\n",
        "\n",
        "# Convert labels to one-hot encoding\n",
        "num_classes = len(np.unique(labels_encoded))\n",
        "labels_categorical = to_categorical(labels_encoded, num_classes=num_classes)\n",
        "\n",
        "# Split the dataset into training and testing sets\n",
        "X_train, X_test, y_train, y_test = train_test_split(images, labels_categorical, test_size=0.2, random_state=42)\n"
      ],
      "metadata": {
        "id": "oP4XBlypFXd0"
      },
      "execution_count": null,
      "outputs": []
    },
    {
      "cell_type": "code",
      "source": [
        "# Build the CNN model\n",
        "model = Sequential()\n",
        "model.add(Conv2D(32, (3, 3), activation='relu', input_shape=(64, 64, 3)))\n",
        "model.add(MaxPooling2D((2, 2)))\n",
        "model.add(Conv2D(64, (3, 3), activation='relu'))\n",
        "model.add(MaxPooling2D((2, 2)))\n",
        "model.add(Conv2D(128, (3, 3), activation='relu'))\n",
        "model.add(MaxPooling2D((2, 2)))\n",
        "model.add(Flatten())\n",
        "model.add(Dense(128, activation='relu'))\n",
        "model.add(Dense(num_classes, activation='softmax'))\n",
        "\n",
        "# Compile the model\n",
        "model.compile(optimizer='adam', loss='categorical_crossentropy', metrics=['accuracy'])\n",
        "\n",
        "# Train the model\n",
        "model.fit(X_train, y_train, epochs=10, batch_size=32, validation_data=(X_test, y_test))"
      ],
      "metadata": {
        "colab": {
          "base_uri": "https://localhost:8080/"
        },
        "id": "20YyICJ2IDbU",
        "outputId": "e4a6edb1-94c0-478f-df71-6987fcab39c7"
      },
      "execution_count": null,
      "outputs": [
        {
          "output_type": "stream",
          "name": "stdout",
          "text": [
            "Epoch 1/10\n",
            "118/118 [==============================] - 29s 237ms/step - loss: 7.6370 - accuracy: 0.4172 - val_loss: 1.1309 - val_accuracy: 0.5441\n",
            "Epoch 2/10\n",
            "118/118 [==============================] - 25s 211ms/step - loss: 0.8058 - accuracy: 0.6899 - val_loss: 0.8328 - val_accuracy: 0.6652\n",
            "Epoch 3/10\n",
            "118/118 [==============================] - 31s 260ms/step - loss: 0.5511 - accuracy: 0.7980 - val_loss: 0.5861 - val_accuracy: 0.7811\n",
            "Epoch 4/10\n",
            "118/118 [==============================] - 28s 234ms/step - loss: 0.3644 - accuracy: 0.8682 - val_loss: 0.5427 - val_accuracy: 0.8045\n",
            "Epoch 5/10\n",
            "118/118 [==============================] - 27s 225ms/step - loss: 0.2747 - accuracy: 0.8998 - val_loss: 0.4946 - val_accuracy: 0.8374\n",
            "Epoch 6/10\n",
            "118/118 [==============================] - 28s 242ms/step - loss: 0.2397 - accuracy: 0.9107 - val_loss: 0.7739 - val_accuracy: 0.7800\n",
            "Epoch 7/10\n",
            "118/118 [==============================] - 27s 226ms/step - loss: 0.2242 - accuracy: 0.9192 - val_loss: 0.4858 - val_accuracy: 0.8597\n",
            "Epoch 8/10\n",
            "118/118 [==============================] - 28s 241ms/step - loss: 0.1435 - accuracy: 0.9450 - val_loss: 0.5237 - val_accuracy: 0.8544\n",
            "Epoch 9/10\n",
            "118/118 [==============================] - 26s 224ms/step - loss: 0.0758 - accuracy: 0.9750 - val_loss: 0.5397 - val_accuracy: 0.8544\n",
            "Epoch 10/10\n",
            "118/118 [==============================] - 29s 247ms/step - loss: 0.0558 - accuracy: 0.9811 - val_loss: 0.5120 - val_accuracy: 0.8799\n"
          ]
        },
        {
          "output_type": "execute_result",
          "data": {
            "text/plain": [
              "<keras.src.callbacks.History at 0x7df565649c00>"
            ]
          },
          "metadata": {},
          "execution_count": 20
        }
      ]
    },
    {
      "cell_type": "code",
      "source": [
        "# Evaluate the model on the test set\n",
        "loss, accuracy = model.evaluate(X_test, y_test)\n",
        "print(f'Test Loss: {loss:.4f}, Test Accuracy: {accuracy * 100:.2f}%')"
      ],
      "metadata": {
        "colab": {
          "base_uri": "https://localhost:8080/"
        },
        "id": "unPaoCObMS5Y",
        "outputId": "28285f57-c8f2-4a0f-efb1-2694baea2da1"
      },
      "execution_count": null,
      "outputs": [
        {
          "output_type": "stream",
          "name": "stdout",
          "text": [
            "30/30 [==============================] - 2s 81ms/step - loss: 0.5120 - accuracy: 0.8799\n",
            "Test Loss: 0.5120, Test Accuracy: 87.99%\n"
          ]
        }
      ]
    }
  ]
}