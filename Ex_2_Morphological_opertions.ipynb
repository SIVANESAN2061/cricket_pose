{
  "nbformat": 4,
  "nbformat_minor": 0,
  "metadata": {
    "colab": {
      "provenance": []
    },
    "kernelspec": {
      "name": "python3",
      "display_name": "Python 3"
    },
    "language_info": {
      "name": "python"
    }
  },
  "cells": [
    {
      "cell_type": "code",
      "execution_count": null,
      "metadata": {
        "id": "O_l5fZYnBHZB"
      },
      "outputs": [],
      "source": [
        "import os\n",
        "import cv2\n",
        "import numpy as np\n",
        "from sklearn.model_selection import train_test_split\n",
        "from sklearn.metrics import accuracy_score\n"
      ]
    },
    {
      "cell_type": "code",
      "source": [
        "# Function to load images and labels from the dataset\n",
        "def load_dataset(dataset_path):\n",
        "    images = []\n",
        "    labels = []\n",
        "\n",
        "    for label in os.listdir(dataset_path):\n",
        "        label_path = os.path.join(dataset_path, label)\n",
        "        for image_file in os.listdir(label_path):\n",
        "            image_path = os.path.join(label_path, image_file)\n",
        "            image = cv2.imread(image_path, cv2.IMREAD_GRAYSCALE)\n",
        "            image = cv2.resize(image, (64, 64))  # Resize images to a consistent size\n",
        "            _, binary_image = cv2.threshold(image, 128, 255, cv2.THRESH_BINARY)\n",
        "            images.append(binary_image)\n",
        "            labels.append(label)\n",
        "\n",
        "    return np.array(images), np.array(labels)"
      ],
      "metadata": {
        "id": "3VqvBWhrBNq-"
      },
      "execution_count": null,
      "outputs": []
    },
    {
      "cell_type": "code",
      "source": [
        "# Replace 'your_dataset_path' with the path to your dataset\n",
        "dataset_path = '/content/drive/MyDrive/data'\n",
        "images, labels = load_dataset(dataset_path)\n",
        "\n",
        "# Split the dataset into training and testing sets\n",
        "X_train, X_test, y_train, y_test = train_test_split(images, labels, test_size=0.2, random_state=42)\n",
        "\n",
        "# Morphological operations (example: closing) on binary images\n",
        "def apply_morphological_operations(binary_image):\n",
        "    kernel = np.ones((5, 5), np.uint8)\n",
        "    closing = cv2.morphologyEx(binary_image, cv2.MORPH_CLOSE, kernel)\n",
        "    return closing\n",
        "\n",
        "X_train_processed = [apply_morphological_operations(img) for img in X_train]\n",
        "X_test_processed = [apply_morphological_operations(img) for img in X_test]\n",
        "\n",
        "# Flatten processed images\n",
        "X_train_processed = np.array([img.flatten() for img in X_train_processed])\n",
        "X_test_processed = np.array([img.flatten() for img in X_test_processed])"
      ],
      "metadata": {
        "id": "m_y4p7dmBpOW"
      },
      "execution_count": null,
      "outputs": []
    },
    {
      "cell_type": "code",
      "source": [
        "# Flatten processed images\n",
        "X_train_processed = np.array([img.flatten() for img in X_train_processed])\n",
        "X_test_processed = np.array([img.flatten() for img in X_test_processed])\n",
        "\n",
        "# Train a simple classifier (e.g., RandomForest) on processed images\n",
        "from sklearn.ensemble import RandomForestClassifier\n",
        "\n",
        "classifier = RandomForestClassifier(n_estimators=100, random_state=42)\n",
        "classifier.fit(X_train_processed, y_train)"
      ],
      "metadata": {
        "colab": {
          "base_uri": "https://localhost:8080/",
          "height": 74
        },
        "id": "p3SFWGyyCR9O",
        "outputId": "e4944b78-12cb-490e-caef-138ead263774"
      },
      "execution_count": null,
      "outputs": [
        {
          "output_type": "execute_result",
          "data": {
            "text/plain": [
              "RandomForestClassifier(random_state=42)"
            ],
            "text/html": [
              "<style>#sk-container-id-1 {color: black;background-color: white;}#sk-container-id-1 pre{padding: 0;}#sk-container-id-1 div.sk-toggleable {background-color: white;}#sk-container-id-1 label.sk-toggleable__label {cursor: pointer;display: block;width: 100%;margin-bottom: 0;padding: 0.3em;box-sizing: border-box;text-align: center;}#sk-container-id-1 label.sk-toggleable__label-arrow:before {content: \"▸\";float: left;margin-right: 0.25em;color: #696969;}#sk-container-id-1 label.sk-toggleable__label-arrow:hover:before {color: black;}#sk-container-id-1 div.sk-estimator:hover label.sk-toggleable__label-arrow:before {color: black;}#sk-container-id-1 div.sk-toggleable__content {max-height: 0;max-width: 0;overflow: hidden;text-align: left;background-color: #f0f8ff;}#sk-container-id-1 div.sk-toggleable__content pre {margin: 0.2em;color: black;border-radius: 0.25em;background-color: #f0f8ff;}#sk-container-id-1 input.sk-toggleable__control:checked~div.sk-toggleable__content {max-height: 200px;max-width: 100%;overflow: auto;}#sk-container-id-1 input.sk-toggleable__control:checked~label.sk-toggleable__label-arrow:before {content: \"▾\";}#sk-container-id-1 div.sk-estimator input.sk-toggleable__control:checked~label.sk-toggleable__label {background-color: #d4ebff;}#sk-container-id-1 div.sk-label input.sk-toggleable__control:checked~label.sk-toggleable__label {background-color: #d4ebff;}#sk-container-id-1 input.sk-hidden--visually {border: 0;clip: rect(1px 1px 1px 1px);clip: rect(1px, 1px, 1px, 1px);height: 1px;margin: -1px;overflow: hidden;padding: 0;position: absolute;width: 1px;}#sk-container-id-1 div.sk-estimator {font-family: monospace;background-color: #f0f8ff;border: 1px dotted black;border-radius: 0.25em;box-sizing: border-box;margin-bottom: 0.5em;}#sk-container-id-1 div.sk-estimator:hover {background-color: #d4ebff;}#sk-container-id-1 div.sk-parallel-item::after {content: \"\";width: 100%;border-bottom: 1px solid gray;flex-grow: 1;}#sk-container-id-1 div.sk-label:hover label.sk-toggleable__label {background-color: #d4ebff;}#sk-container-id-1 div.sk-serial::before {content: \"\";position: absolute;border-left: 1px solid gray;box-sizing: border-box;top: 0;bottom: 0;left: 50%;z-index: 0;}#sk-container-id-1 div.sk-serial {display: flex;flex-direction: column;align-items: center;background-color: white;padding-right: 0.2em;padding-left: 0.2em;position: relative;}#sk-container-id-1 div.sk-item {position: relative;z-index: 1;}#sk-container-id-1 div.sk-parallel {display: flex;align-items: stretch;justify-content: center;background-color: white;position: relative;}#sk-container-id-1 div.sk-item::before, #sk-container-id-1 div.sk-parallel-item::before {content: \"\";position: absolute;border-left: 1px solid gray;box-sizing: border-box;top: 0;bottom: 0;left: 50%;z-index: -1;}#sk-container-id-1 div.sk-parallel-item {display: flex;flex-direction: column;z-index: 1;position: relative;background-color: white;}#sk-container-id-1 div.sk-parallel-item:first-child::after {align-self: flex-end;width: 50%;}#sk-container-id-1 div.sk-parallel-item:last-child::after {align-self: flex-start;width: 50%;}#sk-container-id-1 div.sk-parallel-item:only-child::after {width: 0;}#sk-container-id-1 div.sk-dashed-wrapped {border: 1px dashed gray;margin: 0 0.4em 0.5em 0.4em;box-sizing: border-box;padding-bottom: 0.4em;background-color: white;}#sk-container-id-1 div.sk-label label {font-family: monospace;font-weight: bold;display: inline-block;line-height: 1.2em;}#sk-container-id-1 div.sk-label-container {text-align: center;}#sk-container-id-1 div.sk-container {/* jupyter's `normalize.less` sets `[hidden] { display: none; }` but bootstrap.min.css set `[hidden] { display: none !important; }` so we also need the `!important` here to be able to override the default hidden behavior on the sphinx rendered scikit-learn.org. See: https://github.com/scikit-learn/scikit-learn/issues/21755 */display: inline-block !important;position: relative;}#sk-container-id-1 div.sk-text-repr-fallback {display: none;}</style><div id=\"sk-container-id-1\" class=\"sk-top-container\"><div class=\"sk-text-repr-fallback\"><pre>RandomForestClassifier(random_state=42)</pre><b>In a Jupyter environment, please rerun this cell to show the HTML representation or trust the notebook. <br />On GitHub, the HTML representation is unable to render, please try loading this page with nbviewer.org.</b></div><div class=\"sk-container\" hidden><div class=\"sk-item\"><div class=\"sk-estimator sk-toggleable\"><input class=\"sk-toggleable__control sk-hidden--visually\" id=\"sk-estimator-id-1\" type=\"checkbox\" checked><label for=\"sk-estimator-id-1\" class=\"sk-toggleable__label sk-toggleable__label-arrow\">RandomForestClassifier</label><div class=\"sk-toggleable__content\"><pre>RandomForestClassifier(random_state=42)</pre></div></div></div></div></div>"
            ]
          },
          "metadata": {},
          "execution_count": 5
        }
      ]
    },
    {
      "cell_type": "code",
      "source": [
        "# Make predictions on the test set\n",
        "y_pred = classifier.predict(X_test_processed)\n"
      ],
      "metadata": {
        "id": "A7UYuwyKClQq"
      },
      "execution_count": null,
      "outputs": []
    },
    {
      "cell_type": "code",
      "source": [
        "# Evaluate the accuracy of the model\n",
        "accuracy = accuracy_score(y_test, y_pred)\n",
        "print(f\"Accuracy: {accuracy * 100:.2f}%\")"
      ],
      "metadata": {
        "colab": {
          "base_uri": "https://localhost:8080/"
        },
        "id": "2GdckGYtCpz1",
        "outputId": "cd527c2d-39dc-45c3-9cd7-8d83f77df7c3"
      },
      "execution_count": null,
      "outputs": [
        {
          "output_type": "stream",
          "name": "stdout",
          "text": [
            "Accuracy: 70.24%\n"
          ]
        }
      ]
    },
    {
      "cell_type": "code",
      "source": [
        "# Train the model 20 times and store accuracy for each run\n",
        "num_iterations = 20\n",
        "accuracies = []\n",
        "\n",
        "for iteration in range(num_iterations):\n",
        "    # Apply morphological operations to training and testing images\n",
        "    X_train_processed = [apply_morphological_operations(img) for img in X_train]\n",
        "    X_test_processed = [apply_morphological_operations(img) for img in X_test]\n",
        "\n",
        "    # Flatten processed images\n",
        "    X_train_processed = np.array([img.flatten() for img in X_train_processed])\n",
        "    X_test_processed = np.array([img.flatten() for img in X_test_processed])\n",
        "\n",
        "    # Train a simple classifier (e.g., RandomForest) on processed images\n",
        "    classifier = RandomForestClassifier(n_estimators=100, random_state=iteration)\n",
        "    classifier.fit(X_train_processed, y_train)\n",
        "\n",
        "    # Make predictions on the test set\n",
        "    y_pred = classifier.predict(X_test_processed)\n",
        "\n",
        "    # Evaluate the accuracy of the model\n",
        "    accuracy = accuracy_score(y_test, y_pred)\n",
        "    accuracies.append(accuracy)\n",
        "    print(f\"Iteration {iteration + 1}: Accuracy = {accuracy * 100:.2f}%\")\n",
        "\n",
        "# Print the average accuracy over all iterations\n",
        "average_accuracy = np.mean(accuracies)\n",
        "print(f\"\\nAverage Accuracy over {num_iterations} iterations: {average_accuracy * 100:.2f}%\")"
      ],
      "metadata": {
        "colab": {
          "base_uri": "https://localhost:8080/"
        },
        "id": "B_nxF31IDAOB",
        "outputId": "23f8ca20-44b7-4ca5-fd3d-a2f8aac5206e"
      },
      "execution_count": null,
      "outputs": [
        {
          "output_type": "stream",
          "name": "stdout",
          "text": [
            "Iteration 1: Accuracy = 68.76%\n",
            "Iteration 2: Accuracy = 69.50%\n",
            "Iteration 3: Accuracy = 69.82%\n",
            "Iteration 4: Accuracy = 70.03%\n",
            "Iteration 5: Accuracy = 69.39%\n",
            "Iteration 6: Accuracy = 68.54%\n",
            "Iteration 7: Accuracy = 69.93%\n",
            "Iteration 8: Accuracy = 68.54%\n",
            "Iteration 9: Accuracy = 69.18%\n",
            "Iteration 10: Accuracy = 69.39%\n",
            "Iteration 11: Accuracy = 69.61%\n",
            "Iteration 12: Accuracy = 66.74%\n",
            "Iteration 13: Accuracy = 69.18%\n",
            "Iteration 14: Accuracy = 69.39%\n",
            "Iteration 15: Accuracy = 68.12%\n",
            "Iteration 16: Accuracy = 68.54%\n",
            "Iteration 17: Accuracy = 67.69%\n",
            "Iteration 18: Accuracy = 69.18%\n",
            "Iteration 19: Accuracy = 68.44%\n",
            "Iteration 20: Accuracy = 69.39%\n",
            "\n",
            "Average Accuracy over 20 iterations: 68.97%\n"
          ]
        }
      ]
    }
  ]
}