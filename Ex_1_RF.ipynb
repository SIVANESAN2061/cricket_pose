{
  "nbformat": 4,
  "nbformat_minor": 0,
  "metadata": {
    "colab": {
      "provenance": []
    },
    "kernelspec": {
      "name": "python3",
      "display_name": "Python 3"
    },
    "language_info": {
      "name": "python"
    }
  },
  "cells": [
    {
      "cell_type": "code",
      "execution_count": null,
      "metadata": {
        "id": "TN8qjv-D6F6o"
      },
      "outputs": [],
      "source": [
        "# Import necessary libraries\n",
        "import os\n",
        "import cv2\n",
        "import numpy as np\n",
        "import matplotlib.pyplot as plt\n",
        "from sklearn.model_selection import train_test_split\n",
        "from sklearn.ensemble import RandomForestClassifier\n",
        "from sklearn.metrics import accuracy_score\n"
      ]
    },
    {
      "cell_type": "code",
      "source": [
        "\n",
        "# Function to load images and labels from the dataset\n",
        "def load_dataset(dataset_path):\n",
        "    images = []\n",
        "    labels = []\n",
        "\n",
        "    for label in os.listdir(dataset_path):\n",
        "        label_path = os.path.join(dataset_path, label)\n",
        "        for image_file in os.listdir(label_path):\n",
        "            image_path = os.path.join(label_path, image_file)\n",
        "            image = cv2.imread(image_path)\n",
        "            image = cv2.resize(image, (64, 64))  # Resize images to a consistent size\n",
        "            images.append(image)\n",
        "            labels.append(label)\n",
        "\n",
        "    return np.array(images), np.array(labels)\n",
        "\n",
        "# Replace 'your_dataset_path' with the path to your dataset\n",
        "dataset_path = '/content/drive/MyDrive/data'\n",
        "images, labels = load_dataset(dataset_path)"
      ],
      "metadata": {
        "id": "beHPTbw97_sS"
      },
      "execution_count": null,
      "outputs": []
    },
    {
      "cell_type": "code",
      "source": [
        "# Flatten images for RandomForestClassifier\n",
        "images = images.reshape(images.shape[0], -1)\n",
        "\n",
        "# Split the dataset into training and testing sets\n",
        "X_train, X_test, y_train, y_test = train_test_split(images, labels, test_size=0.2, random_state=42)\n",
        "\n",
        "# Create and train the RandomForestClassifier with training history\n",
        "random_forest = RandomForestClassifier(n_estimators=100, random_state=42)\n",
        "history = random_forest.fit(X_train, y_train)\n"
      ],
      "metadata": {
        "id": "tDNPbJzU87-G"
      },
      "execution_count": null,
      "outputs": []
    },
    {
      "cell_type": "code",
      "source": [
        "# Make predictions on the test set\n",
        "y_pred = random_forest.predict(X_test)\n",
        "\n",
        "# Evaluate the accuracy of the model\n",
        "accuracy = accuracy_score(y_test, y_pred)\n",
        "print(f\"Accuracy: {accuracy * 100:.2f}%\")\n"
      ],
      "metadata": {
        "colab": {
          "base_uri": "https://localhost:8080/"
        },
        "id": "R-_qwtTG9JlT",
        "outputId": "1d34ccab-7786-4a6f-dbf9-b8bb44d43f31"
      },
      "execution_count": null,
      "outputs": [
        {
          "output_type": "stream",
          "name": "stdout",
          "text": [
            "Accuracy: 75.66%\n"
          ]
        }
      ]
    },
    {
      "cell_type": "code",
      "source": [
        "# Train the model 20 times and store accuracy for each run\n",
        "num_iterations = 20\n",
        "accuracies = []\n",
        "\n",
        "for iteration in range(num_iterations):\n",
        "    # Create and train the RandomForestClassifier\n",
        "    random_forest = RandomForestClassifier(n_estimators=100, random_state=iteration)\n",
        "    random_forest.fit(X_train, y_train)\n",
        "\n",
        "    # Make predictions on the test set\n",
        "    y_pred = random_forest.predict(X_test)\n",
        "\n",
        "    # Evaluate the accuracy of the model\n",
        "    accuracy = accuracy_score(y_test, y_pred)\n",
        "    accuracies.append(accuracy)\n",
        "    print(f\"Iteration {iteration + 1}: Accuracy = {accuracy * 100:.2f}%\")\n",
        "\n",
        "# Print the average accuracy over all iterations\n",
        "average_accuracy = np.mean(accuracies)\n",
        "print(f\"\\nAverage Accuracy over {num_iterations} iterations: {average_accuracy * 100:.2f}%\")"
      ],
      "metadata": {
        "colab": {
          "base_uri": "https://localhost:8080/"
        },
        "id": "BMRuj9lF90eu",
        "outputId": "a0f96b45-a09c-4b4c-ff04-e40a00d7b693"
      },
      "execution_count": null,
      "outputs": [
        {
          "output_type": "stream",
          "name": "stdout",
          "text": [
            "Iteration 1: Accuracy = 78.43%\n",
            "Iteration 2: Accuracy = 77.58%\n",
            "Iteration 3: Accuracy = 77.36%\n",
            "Iteration 4: Accuracy = 76.94%\n",
            "Iteration 5: Accuracy = 77.36%\n",
            "Iteration 6: Accuracy = 77.26%\n",
            "Iteration 7: Accuracy = 77.79%\n",
            "Iteration 8: Accuracy = 79.28%\n",
            "Iteration 9: Accuracy = 76.73%\n",
            "Iteration 10: Accuracy = 77.58%\n",
            "Iteration 11: Accuracy = 76.41%\n",
            "Iteration 12: Accuracy = 77.05%\n",
            "Iteration 13: Accuracy = 78.11%\n",
            "Iteration 14: Accuracy = 77.36%\n",
            "Iteration 15: Accuracy = 76.51%\n",
            "Iteration 16: Accuracy = 77.58%\n",
            "Iteration 17: Accuracy = 77.26%\n",
            "Iteration 18: Accuracy = 79.06%\n",
            "Iteration 19: Accuracy = 76.83%\n",
            "Iteration 20: Accuracy = 77.47%\n",
            "\n",
            "Average Accuracy over 20 iterations: 77.50%\n"
          ]
        }
      ]
    },
    {
      "cell_type": "code",
      "source": [
        "# Plot feature importances\n",
        "feature_importances = random_forest.feature_importances_\n",
        "sorted_indices = np.argsort(feature_importances)[::-1]\n",
        "plt.bar(range(X_train.shape[1]), feature_importances[sorted_indices])\n",
        "plt.title('Feature Importances')\n",
        "plt.xlabel('Feature Index')\n",
        "plt.ylabel('Importance')\n",
        "plt.show()"
      ],
      "metadata": {
        "colab": {
          "base_uri": "https://localhost:8080/",
          "height": 472
        },
        "id": "-eX3P1fW-KSy",
        "outputId": "4df00269-e341-4177-a357-6cc1a1ea4d02"
      },
      "execution_count": null,
      "outputs": [
        {
          "output_type": "display_data",
          "data": {
            "text/plain": [
              "<Figure size 640x480 with 1 Axes>"
            ],
            "image/png": "[encoded data removed]"
          },
          "metadata": {}
        }
      ]
    }
  ]
}